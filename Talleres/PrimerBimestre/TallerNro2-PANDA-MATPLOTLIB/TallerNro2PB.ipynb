{
  "nbformat": 4,
  "nbformat_minor": 0,
  "metadata": {
    "kernelspec": {
      "display_name": "Python 3",
      "language": "python",
      "name": "python3"
    },
    "language_info": {
      "codemirror_mode": {
        "name": "ipython",
        "version": 3
      },
      "file_extension": ".py",
      "mimetype": "text/x-python",
      "name": "python",
      "nbconvert_exporter": "python",
      "pygments_lexer": "ipython3",
      "version": "3.7.6"
    },
    "colab": {
      "name": "TallerNro2PB.ipynb",
      "provenance": [],
      "include_colab_link": true
    }
  },
  "cells": [
    {
      "cell_type": "markdown",
      "metadata": {
        "id": "view-in-github",
        "colab_type": "text"
      },
      "source": [
        "<a href=\"https://colab.research.google.com/github/lsantiago/PythonIntermedio/blob/master/Talleres/PrimerBimestre/TallerNro2-PANDA-MATPLOTLIB/TallerNro2PB.ipynb\" target=\"_parent\"><img src=\"https://colab.research.google.com/assets/colab-badge.svg\" alt=\"Open In Colab\"/></a>"
      ]
    },
    {
      "cell_type": "markdown",
      "metadata": {
        "id": "MSeDEkb1jPVR"
      },
      "source": [
        "# TALLER NRO. 2, PANDAS + MATPLOTLIB"
      ]
    },
    {
      "cell_type": "code",
      "metadata": {
        "id": "F23DLnNmjPVU"
      },
      "source": [
        "import pandas as pd\n",
        "import matplotlib.pyplot as plt\n",
        "import matplotlib.dates as mdates\n",
        "\n",
        "# Importar ambas tablas de datos en python usando pandas. Poner la columna del índice en \"MESS_DATUM\" y analizar los valores de la columna como fechas.\n",
        "garmisch  = pd.read_csv(...)\n",
        "zugspitze = pd.read_csv(...)\n",
        "\n",
        "# Recorta las tablas a el año 2018 [1P]\n",
        "garmisch  = \n",
        "zugspitze = \n",
        "\n",
        "# Volver a muestrear los datos de temperatura a promedios mensuales (\" TMK\") y los datos de precipitaciones a sumas mensuales (\" RSK\"): [1P]\n",
        "garmisch_agg  = \n",
        "zugspitze_agg = \n",
        "\n",
        "# Define una función de trazado que dibuja un simple diagrama climático\n",
        "# Agrega los argumentos como se menciona en la lista de documentos abajo [1P]\n",
        "# Establece el rango de temperatura por defecto de -15°C a 20°C y el rango de precipitaciones de 0mm a 370mm [1P]\n",
        "\n",
        "def crear_diagrama_climatico(a, b, c=2):\n",
        "    \"\"\"\n",
        "    Dibuja un diagrama climático.\n",
        "    \n",
        "    Parametros\n",
        "    ----------\n",
        "    df : pd.DataFrame\n",
        "        Dataframe de datos con valores para graficar\n",
        "    temp_col : str\n",
        "        Nombre de la columna de temperatura\n",
        "    prec_col : str\n",
        "        Nombre de la columna de precipitación\n",
        "    title : String\n",
        "        El título para la figura\n",
        "    filename : String\n",
        "        El nombre de la figura de salida\n",
        "    temp_min : Number\n",
        "        El valor mínimo de temperatura a mostrar\n",
        "    temp_max : Number\n",
        "        El valor máximo de temperatura a mostrar\n",
        "    prec_min : Number\n",
        "        El valor mínimo de precipitación a mostrar\n",
        "    prec_max : Number\n",
        "        El valor máximo de precipitación a mostrar\n",
        "\n",
        "    Returns\n",
        "    -------\n",
        "    La figura\n",
        "    \n",
        "    \"\"\"\n",
        "\n",
        "    fig = plt.figure(figsize=(10,8))\n",
        "    plt.rcParams['font.size'] = 16\n",
        "\n",
        "    ax2 = fig.add_subplot(111)\n",
        "    ax1 = ax2.twinx()\n",
        "\n",
        "    \n",
        "    \n",
        "    # Dibuja los valores de temperatura como una línea roja y los valores de precipitación como barras azules: [1P]\n",
        "    # Pista: Revisa la documentación de matplotlib cómo trazar gráficos de barras (plt.bar?). Intenta establecer directamente la correcta\n",
        "    # etiquetas del eje X (nombres cortos de los meses)\n",
        "    ax2.bar(df.index.strftime(\"%b\"), df.loc[:,\" RSK\"].values, ...)\n",
        "    ax1.plot(...)\n",
        "    \n",
        "    # Establezca los límites apropiados para cada eje Y usando los argumentos de la función: [1P]\n",
        "    ax2.\n",
        "    ax1.\n",
        "    \n",
        "    # Ponga las etiquetas apropiadas a cada eje Y: [1P]\n",
        "    ax2.\n",
        "    ax1.\n",
        "\n",
        "    # Dale a tu diagrama el título de los argumentos proporcionados: [1P]\n",
        "    plt.title(...)\n",
        "\n",
        "    # Guarda la figura como imagen png en la carpeta \"output\" con el nombre de archivo dado. [1P]\n",
        "    #...\n",
        "    return fig\n",
        "\n",
        "# Utilice esta función para dibujar un diagrama climático para 2018 para ambas estaciones y guarde el resultado: [1P]\n",
        "crear_diagrama_climatico(...)\n",
        "crear_diagrama_climatico(...)\n"
      ],
      "execution_count": null,
      "outputs": []
    }
  ]
}